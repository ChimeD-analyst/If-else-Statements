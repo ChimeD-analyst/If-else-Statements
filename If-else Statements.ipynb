{
 "cells": [
  {
   "cell_type": "code",
   "execution_count": null,
   "metadata": {},
   "outputs": [],
   "source": [
    "print('Welcome to my if statement app')\n",
    "print('We are really concerned about how our customers feel')\n",
    "temp=input('Please are you feeling hot or feeling cold today? ')\n",
    "\n",
    "if temp == 'hot':\n",
    "    \n",
    "    print('Really sorry about that, contact our admin for the address of the nearest ice cream shop')\n",
    "elif temp ==  'cold':\n",
    "   \n",
    "    print('Really sorry about that, contact our admin for the address of the nearest sweater store')\n",
    "else:\n",
    "    \n",
    "    print(\"Wow!,that's great\")\n",
    "    print('Have a lovely day')\n",
    "    "
   ]
  }
 ],
 "metadata": {
  "kernelspec": {
   "display_name": "Python 3",
   "language": "python",
   "name": "python3"
  },
  "language_info": {
   "codemirror_mode": {
    "name": "ipython",
    "version": 3
   },
   "file_extension": ".py",
   "mimetype": "text/x-python",
   "name": "python",
   "nbconvert_exporter": "python",
   "pygments_lexer": "ipython3",
   "version": "3.8.5"
  }
 },
 "nbformat": 4,
 "nbformat_minor": 4
}
